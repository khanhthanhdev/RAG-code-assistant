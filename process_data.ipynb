{
 "cells": [
  {
   "cell_type": "code",
   "execution_count": 1,
   "metadata": {},
   "outputs": [
    {
     "name": "stdout",
     "output_type": "stream",
     "text": [
      "Defaulting to user installation because normal site-packages is not writeable\n",
      "Requirement already satisfied: vinorm in /workspace/.pyenv_mirror/user/current/lib/python3.10/site-packages (2.0.7)\n",
      "Defaulting to user installation because normal site-packages is not writeable\n",
      "Requirement already satisfied: datasets in /workspace/.pyenv_mirror/user/current/lib/python3.10/site-packages (2.21.0)\n",
      "Requirement already satisfied: filelock in /workspace/.pyenv_mirror/user/current/lib/python3.10/site-packages (from datasets) (3.15.4)\n",
      "Requirement already satisfied: xxhash in /workspace/.pyenv_mirror/user/current/lib/python3.10/site-packages (from datasets) (3.5.0)\n",
      "Requirement already satisfied: pandas in /workspace/.pyenv_mirror/user/current/lib/python3.10/site-packages (from datasets) (2.2.2)\n",
      "Requirement already satisfied: dill<0.3.9,>=0.3.0 in /workspace/.pyenv_mirror/user/current/lib/python3.10/site-packages (from datasets) (0.3.8)\n",
      "Requirement already satisfied: aiohttp in /workspace/.pyenv_mirror/user/current/lib/python3.10/site-packages (from datasets) (3.10.5)\n",
      "Requirement already satisfied: numpy>=1.17 in /workspace/.pyenv_mirror/user/current/lib/python3.10/site-packages (from datasets) (2.1.0)\n",
      "Requirement already satisfied: pyarrow>=15.0.0 in /workspace/.pyenv_mirror/user/current/lib/python3.10/site-packages (from datasets) (17.0.0)\n",
      "Requirement already satisfied: packaging in /workspace/.pyenv_mirror/user/current/lib/python3.10/site-packages (from datasets) (24.1)\n",
      "Requirement already satisfied: requests>=2.32.2 in /workspace/.pyenv_mirror/user/current/lib/python3.10/site-packages (from datasets) (2.32.3)\n",
      "Requirement already satisfied: pyyaml>=5.1 in /usr/lib/python3/dist-packages (from datasets) (5.4.1)\n",
      "Requirement already satisfied: fsspec[http]<=2024.6.1,>=2023.1.0 in /workspace/.pyenv_mirror/user/current/lib/python3.10/site-packages (from datasets) (2024.6.1)\n",
      "Requirement already satisfied: huggingface-hub>=0.21.2 in /workspace/.pyenv_mirror/user/current/lib/python3.10/site-packages (from datasets) (0.24.6)\n",
      "Requirement already satisfied: multiprocess in /workspace/.pyenv_mirror/user/current/lib/python3.10/site-packages (from datasets) (0.70.16)\n",
      "Requirement already satisfied: tqdm>=4.66.3 in /workspace/.pyenv_mirror/user/current/lib/python3.10/site-packages (from datasets) (4.66.5)\n",
      "Requirement already satisfied: aiosignal>=1.1.2 in /workspace/.pyenv_mirror/user/current/lib/python3.10/site-packages (from aiohttp->datasets) (1.3.1)\n",
      "Requirement already satisfied: frozenlist>=1.1.1 in /workspace/.pyenv_mirror/user/current/lib/python3.10/site-packages (from aiohttp->datasets) (1.4.1)\n",
      "Requirement already satisfied: aiohappyeyeballs>=2.3.0 in /workspace/.pyenv_mirror/user/current/lib/python3.10/site-packages (from aiohttp->datasets) (2.4.0)\n",
      "Requirement already satisfied: async-timeout<5.0,>=4.0 in /workspace/.pyenv_mirror/user/current/lib/python3.10/site-packages (from aiohttp->datasets) (4.0.3)\n",
      "Requirement already satisfied: yarl<2.0,>=1.0 in /workspace/.pyenv_mirror/user/current/lib/python3.10/site-packages (from aiohttp->datasets) (1.9.4)\n",
      "Requirement already satisfied: multidict<7.0,>=4.5 in /workspace/.pyenv_mirror/user/current/lib/python3.10/site-packages (from aiohttp->datasets) (6.0.5)\n",
      "Requirement already satisfied: attrs>=17.3.0 in /workspace/.pyenv_mirror/user/current/lib/python3.10/site-packages (from aiohttp->datasets) (24.2.0)\n",
      "Requirement already satisfied: typing-extensions>=3.7.4.3 in /workspace/.pyenv_mirror/user/current/lib/python3.10/site-packages (from huggingface-hub>=0.21.2->datasets) (4.12.2)\n",
      "Requirement already satisfied: urllib3<3,>=1.21.1 in /workspace/.pyenv_mirror/user/current/lib/python3.10/site-packages (from requests>=2.32.2->datasets) (2.2.2)\n",
      "Requirement already satisfied: certifi>=2017.4.17 in /workspace/.pyenv_mirror/user/current/lib/python3.10/site-packages (from requests>=2.32.2->datasets) (2024.7.4)\n",
      "Requirement already satisfied: charset-normalizer<4,>=2 in /workspace/.pyenv_mirror/user/current/lib/python3.10/site-packages (from requests>=2.32.2->datasets) (3.3.2)\n",
      "Requirement already satisfied: idna<4,>=2.5 in /workspace/.pyenv_mirror/user/current/lib/python3.10/site-packages (from requests>=2.32.2->datasets) (3.8)\n",
      "Requirement already satisfied: tzdata>=2022.7 in /workspace/.pyenv_mirror/user/current/lib/python3.10/site-packages (from pandas->datasets) (2024.1)\n",
      "Requirement already satisfied: pytz>=2020.1 in /workspace/.pyenv_mirror/user/current/lib/python3.10/site-packages (from pandas->datasets) (2024.1)\n",
      "Requirement already satisfied: python-dateutil>=2.8.2 in /workspace/.pyenv_mirror/user/current/lib/python3.10/site-packages (from pandas->datasets) (2.9.0.post0)\n",
      "Requirement already satisfied: six>=1.5 in /usr/lib/python3/dist-packages (from python-dateutil>=2.8.2->pandas->datasets) (1.16.0)\n"
     ]
    }
   ],
   "source": [
    "!pip install vinorm\n",
    "!pip install datasets"
   ]
  },
  {
   "cell_type": "code",
   "execution_count": 2,
   "metadata": {},
   "outputs": [
    {
     "name": "stderr",
     "output_type": "stream",
     "text": [
      "/workspace/.pyenv_mirror/user/current/lib/python3.10/site-packages/tqdm/auto.py:21: TqdmWarning: IProgress not found. Please update jupyter and ipywidgets. See https://ipywidgets.readthedocs.io/en/stable/user_install.html\n",
      "  from .autonotebook import tqdm as notebook_tqdm\n",
      "Downloading readme: 100%|██████████| 3.97k/3.97k [00:00<00:00, 46.6kB/s]\n",
      "Downloading data: 100%|██████████| 161M/161M [00:04<00:00, 35.3MB/s] \n",
      "Downloading data: 100%|██████████| 215M/215M [00:03<00:00, 54.1MB/s] \n",
      "Downloading data: 100%|██████████| 176M/176M [00:00<00:00, 189MB/s]  \n",
      "Generating train split: 100%|██████████| 100396/100396 [00:03<00:00, 31828.85 examples/s]\n"
     ]
    }
   ],
   "source": [
    "from datasets import load_dataset\n",
    "\n",
    "ds = load_dataset(\"tmnam20/Vietnamese-News\", \"dantri\")"
   ]
  },
  {
   "cell_type": "code",
   "execution_count": 6,
   "metadata": {},
   "outputs": [
    {
     "data": {
      "text/plain": [
       "['Ngày 4/12, Sở Lao động - Thương binh và Xã hội tỉnh Quảng Nam có buổi làm việc với trường Cao đẳng Thaco về công tác tuyển sinh, đào tạo, giải quyết việc làm, đưa lao động đi làm việc ở nước ngoài theo hợp đồng trong thời gian qua và những năm đến.\\nLãnh đạo Sở Lao động - Thương binh và Xã hội tỉnh Quảng Nam làm việc với lãnh đạo trường Cao đẳng Thaco (Ảnh: Công Bính).\\nTại buổi làm việc, ông Phan Tiềm - Hiệu trưởng trường Cao đẳng Thaco - cho hay từ năm 2021 đến nay, nhà trường đã phối hợp tốt với Trung tâm Dịch vụ việc làm trực thuộc Sở Lao động - Thương binh và Xã hội và UBND các huyện của tỉnh Quảng Nam giáp biên giới với Lào để tư vấn, tuyển sinh đào tạo và bố trí việc làm cho hơn 310 lao động là người dân tộc thiểu số.\\nTheo đó, người lao động được công ty ký hợp đồng dài hạn, có đầy đủ chế độ bảo hiểm theo Luật lao động của Việt Nam; được bố trí hỗ trợ chi phí ăn ở, những cặp vợ chồng làm việc ở đây được công ty tạo điều kiện bố trí phòng ở chung; được về thăm nhà sau 1-2 tháng làm việc. Mỗi lao động có thể tiết kiệm 8-10 triệu đồng/tháng.\\nTừ việc làm trên đã góp phần giải quyết việc làm cho đồng bào, giảm nghèo cho các hộ gia đình ở miền núi và góp phần thực hiện chỉ tiêu đưa lao động đi làm việc nước ngoài của tỉnh.\\nTại buổi làm việc, ông Phan Tiềm cho hay năm 2024 các nông trường, nông trại của Công ty cổ phần nông nghiệp Trường Hải (Thaco Agri) cần tuyển trên 7.000 lao động ở nhiều ngành nghề như điện, cơ khí, bảo trì, trồng trọt, chăn nuôi...\\nTuy nhiên, hàng năm nhà trường chỉ tuyển sinh được không quá 1.000 học sinh, sinh viên ở 3 cấp trình độ sơ cấp, trung cấp và cao đẳng. Do đó, nhà trường sẽ liên kết với các trường cao đẳng, đại học ở Quảng Nam để tuyển học sinh, sinh viên đã tốt nghiệp cũng như tiếp tục phối hợp với các địa phương của tỉnh để tuyển lao động bố trí việc làm cho các nông trường, nông trại.\\nÔng Nguyễn Quí Quý, Phó Giám đốc Sở Lao động - Thương binh và Xã hội tỉnh Quảng Nam, cho hay trong thời gian qua, lãnh đạo tỉnh rất quan tâm đến đào tạo nghề, đặc biệt là đào tạo nghề cho lao động miền núi. Điều này góp phần rất lớn trong vấn đề giải quyết việc làm trong thời gian vừa qua.\\nTỉnh Quảng Nam đang đề ra rất nhiều giải pháp để hướng đến mục tiêu năm 2025 đào tạo nguồn nhân lực để phục vụ cho sự phát triển của tỉnh, trong đó có lao động ở miền núi. Do đó, Sở rất quan tâm đến việc đào tạo nghề và tạo việc làm, đưa lao động ở các huyện miền núi sang Lào, Campuchia làm việc.',\n",
       " 'Sang Hàn Quốc năm 2022, anh Quốc Tuấn (quê Đồng Hới, Quảng Bình) làm việc trên tàu cá tại tỉnh Chungcheongnam-do, công việc chính của anh là thu hoạch ghẹ cho chủ tàu người Hàn Quốc.\\n\"Bình quân mỗi tháng thu nhập của tôi tính ra tiền Việt khoảng 50-70 triệu đồng, vào mùa cao điểm thu nhập có thể nhiều hơn. Trừ tiền thuê nhà, chi phí sinh hoạt, tôi cũng để dành được 40-60 triệu đồng. Lao động làm ở mỗi tàu khác nhau, thu nhập cũng sẽ khác\", anh Tuấn cho biết.\\nLao động Việt ghi lại cảnh nhúng tay vào nước sôi cho đỡ lạnh khi đi biển (Clip: Nhân vật cung cấp).\\nTuy nhiên, theo anh Tuấn, để có mức thu nhập như vậy, mỗi ngày anh phải lênh đênh trên biển 15-17 tiếng. So với những công việc trên bờ, anh cho biết, nghề đi biển vất vả gấp nhiều lần. Khó khăn lớn nhất là phải đối mặt với thời tiết khắc nghiệt.\\n\"Mùa đông, có những hôm tuyết rơi trắng trời, cơ thể có thể giữ ấm được nhưng đôi bàn tay bắt buộc phải chịu lạnh. Anh em chúng tôi luôn cố gắng giữ cho tay không bị ướt, nếu không bàn tay lạnh buốt, tê cóng rất khó làm việc.\\nSang đây mới thấy mùa đông ngôn tình ở Hàn Quốc chỉ có trên phim còn thực tế là rét cắt da thịt. Mỗi ngày đi biển, tay phải đeo 2 lớp găng vải, 3 lớp bọc nilon chống nước, lớp ngoài cùng là găng tay cao su. Vậy mà vẫn lạnh buốt.\\nTrên tàu anh em thường đun sẵn nồi nước, lúc nào tay buốt quá thì nhúng tay vào nồi nước sôi một lúc mới ra làm việc tiếp được\", anh Tuấn chia sẻ.\\nKhác với những công việc, ngành nghề khác, lao động chọn nghề đi biển như anh Tuấn đều xác định công việc này làm quanh năm suốt tháng, vất vả, thậm chí đối mặt với nguy hiểm trên biển. Nguy hiểm nhất là nước bắn lên boong tàu đến đâu đóng băng đến đó, mặt sàn trơn trượt.\\n\"Nghề này không cố định giờ giấc cụ thể, ngày làm việc 15-17 tiếng là bình thường. Có hôm tôi dậy từ 1h sáng, đi làm liền đến 10h đêm. Về nhà mới được nghỉ ngơi, còn những khoảng dừng tay trên tàu rất ít, cả ngày chỉ nghỉ lúc ăn cơm xong rồi làm tiếp, có khi miếng cơm còn chưa kịp xuống bụng\", anh Tuấn kể.\\nMỗi ngày đi làm, anh Tuấn thường quay lại video clip, rảnh rỗi về đăng lên trang cá nhân để chia sẻ cho mọi người biết đến công việc của anh em lao động nghề ngư nghiệp. Qua những clip sinh động, chân thật, anh nhận được rất nhiều lời động viên từ những người con xa xứ. Điều đó giúp anh có thêm động lực để cố gắng.\\n\"Ở nơi đất khách quê người có kêu khổ cũng không ai đỡ được cho mình. Lao động như chúng tôi may mắn gặp được chủ tốt thì đỡ vất vả, gặp người khắc nghiệt thì không từ ngữ nào diễn tả được. Nhiều lúc nản lòng nhưng phải cố gắng, không dám buông xuôi vì sau lưng còn có gia đình\", anh Tuấn tâm sự.',\n",
       " 'Thông tin trên được ông Đặng Huy Hồng, Giám đốc Trung tâm Lao động ngoài nước (Colab), cho biết tại hội thảo thúc đẩy đưa người lao động các tỉnh phía Bắc đi làm việc ở nước ngoài, thông qua chương trình phi lợi nhuận và giải pháp giảm số lượng lao động không về nước đúng quy định.\\nThông tin về công tác chi trả tiền bảo hiểm quá hạn cho lao động sau khi về nước, lãnh đạo Trung tâm Lao động ngoài nước cho biết, đến nay đã hỗ trợ chi trả được 3.330 khoản bảo hiểm quá hạn với tổng số tiền chi trả gần 2,1 tỷ won (khoảng 40 tỷ đồng).\\n\"Hiện vẫn còn 1.671 khoản bảo hiểm với số tiền hơn 1.8 tỷ won (khoảng 36 tỷ đồng) của một số người lao động chưa hoàn thiện thủ tục để nhận lại các khoản tiền này\", ông Hồng nói.\\nLao động đăng ký thi sát hạch tiếng Hàn để sang Hàn Quốc làm việc (Ảnh: Nguyễn Sơn).\\nTheo quy định, lao động đi làm việc theo Chương trình cấp phép việc làm cho lao động nước ngoài (gọi tắt là chương trình EPS) khi hết hợp đồng, về nước đúng hạn sẽ được nhận khoản bảo hiểm mãn hạn xuất cảnh cho mỗi năm làm việc, tương đương một tháng lương cơ bản và bảo hiểm hồi hương 400.000 won để mua vé máy bay về nước.\\nÔng Hồng giải thích, khoản tiền tồn đọng một phần do lao động chưa hoàn thiện thủ tục nhận vì số tiền không lớn; một bộ phận người lao động trước đây tham gia chương trình thực tập sinh sau đó chuyển đổi sang chương trình EPS nên không xác định được địa chỉ để thông báo.\\nThời gian tới, Trung tâm Lao động ngoài nước cùng Sở LĐ-TB&XH các địa phương sẽ xác định lại danh sách, địa chỉ lao động về nước để thông báo cho họ sớm nhận đầy đủ.\\nTheo Colab, lao động hồi hương chưa nhận được tiền bảo hiểm có thể liên hệ Trung tâm Lao động ngoài nước để được hướng dẫn thủ tục nhận tiền. Hồ sơ đăng ký hợp lệ sẽ được gửi sang Hàn Quốc để xác minh và hoàn tất thủ tục chi trả, lao động nhận được tiền sau khoảng 2-3 tháng kể từ khi hoàn thành thủ tục.',\n",
       " 'TPHCM những ngày giữa tháng 10, trời liên tục đổ mưa. Đội mưa, Dương Thị Ngọc Mai (21 tuổi, ngụ tại quận 7) và bạn bè cùng kéo đến quán trà sữa nhỏ trên đường Tám Danh (quận 8, TPHCM) để thưởng thức ly trà sữa hải sản.\\nVừa nhận ly trà sữa từ nhân viên, cả nhóm không khỏi ngạc nhiên vì mùi tôm nướng thoang thoảng. \"Tôi từng nghe trà sữa nấu từ đậu biếc, củ dền,... nhưng chưa từng nghĩ sẽ có trà sữa được nấu từ hải sản\", Ngọc Mai cười nói, háo hức thử ngụm đầu tiên.\\nKhông chỉ Mai, giới trẻ ở TPHCM đang phát cuồng vì món thức uống \"khó nuốt\" này.\\nGiới trẻ hào hứng khi cầm trên tay ly trà sữa thoang thoảng mùi tôm nướng và mùi trà Nhật (Ảnh: Bình Minh)\\nChủ quán trà sữa nhỏ, người đã nghĩ ra công thức của món trà sữa \"độc, lạ\" này chính là anh Thành Sang. \"Những ý tưởng về sản phẩm của mình đều xuất phát từ những sở thích cá nhân. Tôi thích ăn hải sản nên nhiều lần tự đặt câu hỏi về khả năng kết hợp trà sữa và hải sản\", Sang nói.\\n21h mỗi ngày, anh Sang bắt đầu nấu món trà sữa hải sản rồi ủ lạnh qua đêm để sáng hôm sau bắt đầu bán. Lúc đó, trà sữa sẽ đậm mùi thơm của tôm nướng và khi uống sẽ cảm nhận được sự thanh mát của trà Nhật.\\nAnh Sang thử kết hợp với kem phô mai và kem trứng muối để làm dậy lên hương vị của món trà sữa hải sản (Ảnh: Bình Minh)\\nTheo anh chủ quán, \"chìa khóa\" tạo nên sự thành công của món thức uống nghe lạ tai này chính là phần nước cốt được nấu từ tôm, mực và lá dứa.\\nTrong menu quán có nhiều loại đồ uống khác nhau, riêng trà sữa hải sản phải do Sang trực tiếp nấu. \"Các bạn nhân viên dù làm đúng theo công thức và được hướng dẫn trực tiếp vẫn không thể làm ra hương vị chuẩn của món này\", anh Sang bộc bạch.\\nĐể có được món thức uống \"độc, lạ\" trên, Sang đã bỏ ra gần 1 năm nghiên cứu cách khử mùi tanh cho tôm, mực khi pha lẫn với trà. Nhiều lần thất bại, chàng trai phải bán đi cả mảnh đất mẹ tặng để tiếp tục đam mê khởi nghiệp.\\nMọi nguyên liệu đều được anh Sang tự mình cẩn thận đong đo để chắc chắn rằng khách hàng luôn nhận được ly trà sữa tôm nướng đúng mùi vị (Ảnh: Bình Minh)\\nTheo anh Sang, một quán ăn uống thu hút khách phải đáp ứng đủ 3 tiêu chí. Thứ nhất, sản phẩm của quán phải độc, lạ. Thứ hai, đồ uống và món ăn phải ngon và đảm bảo an toàn vệ sinh thực phẩm. Và cuối cùng, điều giữ được khách hàng lâu dài, chính là dịch vụ phải tốt.\\n\"Sự hài lòng của khách hàng chính là kim chỉ nam cho hoạt động của quán tôi. Đối với tôi, kinh doanh là một quá trình dài. Chính vì thế, người làm kinh doanh không được vội, phải có tinh thần cầu thị, vừa học hỏi, vừa đổi mới và sáng tạo\", Sang tâm niệm.\\nBình Minh',\n",
       " 'Foxconn (Tập đoàn đa khoa kỹ thuật Hồng Hải) là đối tác lắp ráp iPhone lớn nhất của thương hiệu Apple. Bên cạnh đó, Công ty TNHH Luxshare ICT cũng được biết đến là đơn vị đang sản xuất sản phẩm Airpod cho Apple tại Việt Nam.\\nNgoài ra, Công ty TNHH New Wing Interconnect Technology (Khu công nghiệp Vân Trung, huyện Việt Yên, tỉnh Bắc Giang) cũng liên tục có nhu cầu tuyển dụng nhân sự.\\nTrên đây là 3 công ty có nhu cầu tuyển dụng lao động lớn nhất trên địa bàn tỉnh Bắc Giang.\\nGiám đốc Trung tâm Dịch vụ việc làm Bắc Giang Nguyễn Văn Huế thông tin: \"Chúng tôi vừa hoàn thành việc giới thiệu, tuyển dụng hơn 10.000 lao động phổ thông cho công ty Luxshare ICT trong tháng 8. Phía đơn vị vừa gửi thư cảm ơn Sở LĐ-TB&XH và Trung tâm đã hỗ trợ trong dịp cao điểm tuyển dụng tại Bắc Giang\".\\nTuyển dụng lao động ở Bắc Giang (Ảnh: VH).\\nTheo ông Huế, thị trường lao động trên địa bàn tỉnh hiện khá sôi động. Chỉ một số ít doanh nghiệp dệt may bị ảnh hưởng đơn hàng, còn lại những doanh nghiệp điện tử liên tục có nhu cầu tuyển dụng phục vụ mở rộng quy mô sản xuất, tiếp nhận đơn hàng của đối tác.\\nNếu như tháng 8 công ty Luxshare ICT mới bắt đầu tuyển dụng, thì ngay từ đầu năm 2023, Foxconn hay công ty New Wing đã có sự chuẩn bị nhân sự từ rất sớm.\\n\"Các doanh nghiệp có đông lao động luôn có kế hoạch về nhân sự từ đầu năm. Mục đích của việc này là để tránh những biến động về nhân sự chuyển việc, nghỉ việc. Như vậy, công ty luôn có đủ lao động phục vụ tiến độ của các đơn hàng từ đối tác\", ông Huế nói.\\nTừ nay đến cuối năm, số doanh nghiệp trên địa bàn đăng ký tuyển dụng nhân sự qua Trung tâm dịch vụ việc làm tỉnh đã lên đến hơn 50.000 vị trí công việc.\\nTrong đó, Foxconn có nhu cầu tuyển dụng cao nhất, 3.000-5.000 vị trí. Bên cạnh lao động phổ thông, doanh nghiệp công nghệ này còn tuyển thêm các vị trí có chuyên môn, trình độ như hành chính nhân sự... cho các công ty con.\\nDưới sự hỗ trợ của trung tâm, các công ty đều tuyển dụng đủ số lượng, đáp ứng được nhu cầu rất lớn trước đó.\\nLý giải về việc này, ông Huế cho biết, đơn vị không chỉ kết nối việc làm cho lao động ở Bắc Giang, mà còn nhiều địa phương lân cận như Điện Biên, Tuyên Quang... Từ đó sẽ có nguồn lao động dồi dào đáp ứng nhu cầu tuyển dụng của các doanh nghiệp.\\nTheo ông Huế, mới đây, ông có dịp trao đổi với giám đốc của một công ty con ở Trung Quốc đã đặt nhà máy tại Bắc Giang cách đây 1 năm. Họ cũng chính là công ty đối tác của Apple.\\nKết nối lao động nhiều địa phương phục vụ nhu cầu tuyển dụng của các doanh nghiệp (Ảnh: VH).\\nVị này cũng trao đổi, hỗ trợ đơn vị trong việc thu hút lao động và điều chỉnh tuyển dụng cho phù hợp với tình hình thị trường lao động tại Việt Nam.\\nHiện các khu công nghiệp trên địa bàn tỉnh Bắc Giang có 419 doanh nghiệp đang hoạt động sản xuất kinh doanh. Đa số các doanh nghiệp vẫn duy trì hoạt động sản xuất ổn định.\\nNhiều doanh nghiệp FDI tiếp tục duy trì mức tăng trưởng khá như: Các doanh nghiệp thuộc Tập đoàn Khoa học kỹ thuật Hồng Hải, các doanh nghiệp sản xuất pin năng lượng mặt trời và các doanh nghiệp ngành cơ khí, chế tạo...\\nTrong các khu công nghiệp hiện có hơn 200.000 lao động làm việc. Trong đó, số lao động ngoại tỉnh chiếm 33%, lao động trong tỉnh chiếm khoảng 67%. Tổng lao động nước ngoài khoảng 7,1 nghìn người.']"
      ]
     },
     "execution_count": 6,
     "metadata": {},
     "output_type": "execute_result"
    }
   ],
   "source": [
    "ds[\"train\"][\"content\"][:5]"
   ]
  },
  {
   "cell_type": "code",
   "execution_count": 24,
   "metadata": {},
   "outputs": [],
   "source": [
    "import pandas as pd\n",
    "df = pd.DataFrame(ds[\"train\"][\"content\"], columns=[\"original\"])"
   ]
  },
  {
   "cell_type": "code",
   "execution_count": 25,
   "metadata": {},
   "outputs": [],
   "source": [
    "df_unique = df.copy()\n",
    "df_unique['original'] = df_unique['original'].str.split('\\n')\n",
    "df_unique = df_unique.explode('original').reset_index(drop=True)"
   ]
  },
  {
   "cell_type": "code",
   "execution_count": 26,
   "metadata": {},
   "outputs": [
    {
     "data": {
      "text/html": [
       "<div>\n",
       "<style scoped>\n",
       "    .dataframe tbody tr th:only-of-type {\n",
       "        vertical-align: middle;\n",
       "    }\n",
       "\n",
       "    .dataframe tbody tr th {\n",
       "        vertical-align: top;\n",
       "    }\n",
       "\n",
       "    .dataframe thead th {\n",
       "        text-align: right;\n",
       "    }\n",
       "</style>\n",
       "<table border=\"1\" class=\"dataframe\">\n",
       "  <thead>\n",
       "    <tr style=\"text-align: right;\">\n",
       "      <th></th>\n",
       "      <th>original</th>\n",
       "    </tr>\n",
       "  </thead>\n",
       "  <tbody>\n",
       "    <tr>\n",
       "      <th>count</th>\n",
       "      <td>1745310</td>\n",
       "    </tr>\n",
       "    <tr>\n",
       "      <th>unique</th>\n",
       "      <td>1080741</td>\n",
       "    </tr>\n",
       "    <tr>\n",
       "      <th>top</th>\n",
       "      <td>Bưu điện</td>\n",
       "    </tr>\n",
       "    <tr>\n",
       "      <th>freq</th>\n",
       "      <td>1327</td>\n",
       "    </tr>\n",
       "  </tbody>\n",
       "</table>\n",
       "</div>"
      ],
      "text/plain": [
       "           original\n",
       "count       1745310\n",
       "unique      1080741\n",
       "top     Bưu điện\n",
       "freq           1327"
      ]
     },
     "execution_count": 26,
     "metadata": {},
     "output_type": "execute_result"
    }
   ],
   "source": [
    "df_unique.describe()"
   ]
  },
  {
   "cell_type": "code",
   "execution_count": 27,
   "metadata": {},
   "outputs": [
    {
     "data": {
      "text/html": [
       "<div>\n",
       "<style scoped>\n",
       "    .dataframe tbody tr th:only-of-type {\n",
       "        vertical-align: middle;\n",
       "    }\n",
       "\n",
       "    .dataframe tbody tr th {\n",
       "        vertical-align: top;\n",
       "    }\n",
       "\n",
       "    .dataframe thead th {\n",
       "        text-align: right;\n",
       "    }\n",
       "</style>\n",
       "<table border=\"1\" class=\"dataframe\">\n",
       "  <thead>\n",
       "    <tr style=\"text-align: right;\">\n",
       "      <th></th>\n",
       "      <th>original</th>\n",
       "    </tr>\n",
       "  </thead>\n",
       "  <tbody>\n",
       "    <tr>\n",
       "      <th>count</th>\n",
       "      <td>1080741</td>\n",
       "    </tr>\n",
       "    <tr>\n",
       "      <th>unique</th>\n",
       "      <td>1080741</td>\n",
       "    </tr>\n",
       "    <tr>\n",
       "      <th>top</th>\n",
       "      <td>Theo ông Nguyễn Trương Thành, Giám đố...</td>\n",
       "    </tr>\n",
       "    <tr>\n",
       "      <th>freq</th>\n",
       "      <td>1</td>\n",
       "    </tr>\n",
       "  </tbody>\n",
       "</table>\n",
       "</div>"
      ],
      "text/plain": [
       "                                                 original\n",
       "count                                             1080741\n",
       "unique                                            1080741\n",
       "top     Theo ông Nguyễn Trương Thành, Giám đố...\n",
       "freq                                                    1"
      ]
     },
     "execution_count": 27,
     "metadata": {},
     "output_type": "execute_result"
    }
   ],
   "source": [
    "df_unique = df_unique.drop_duplicates()\n",
    "df_unique.describe()"
   ]
  },
  {
   "cell_type": "code",
   "execution_count": 28,
   "metadata": {},
   "outputs": [
    {
     "name": "stdout",
     "output_type": "stream",
     "text": [
      "<class 'pandas.core.frame.DataFrame'>\n",
      "RangeIndex: 100396 entries, 0 to 100395\n",
      "Data columns (total 1 columns):\n",
      " #   Column    Non-Null Count   Dtype \n",
      "---  ------    --------------   ----- \n",
      " 0   original  100396 non-null  object\n",
      "dtypes: object(1)\n",
      "memory usage: 784.5+ KB\n"
     ]
    }
   ],
   "source": [
    "df.info()"
   ]
  },
  {
   "cell_type": "code",
   "execution_count": 34,
   "metadata": {},
   "outputs": [
    {
     "data": {
      "text/html": [
       "<div>\n",
       "<style scoped>\n",
       "    .dataframe tbody tr th:only-of-type {\n",
       "        vertical-align: middle;\n",
       "    }\n",
       "\n",
       "    .dataframe tbody tr th {\n",
       "        vertical-align: top;\n",
       "    }\n",
       "\n",
       "    .dataframe thead th {\n",
       "        text-align: right;\n",
       "    }\n",
       "</style>\n",
       "<table border=\"1\" class=\"dataframe\">\n",
       "  <thead>\n",
       "    <tr style=\"text-align: right;\">\n",
       "      <th></th>\n",
       "      <th>original</th>\n",
       "      <th>norm</th>\n",
       "    </tr>\n",
       "  </thead>\n",
       "  <tbody>\n",
       "    <tr>\n",
       "      <th>0</th>\n",
       "      <td>Ngày 4/12, Sở Lao động - Thương binh va...</td>\n",
       "      <td>Ngày 4/12, Sở Lao động - Thương binh va...</td>\n",
       "    </tr>\n",
       "    <tr>\n",
       "      <th>1</th>\n",
       "      <td>Lãnh đạo Sở Lao động - Thương binh và...</td>\n",
       "      <td>Lãnh đạo Sở Lao động - Thương binh và...</td>\n",
       "    </tr>\n",
       "    <tr>\n",
       "      <th>2</th>\n",
       "      <td>Tại buổi làm việc, ông Phan Tiềm - Hi...</td>\n",
       "      <td>Tại buổi làm việc, ông Phan Tiềm - Hi...</td>\n",
       "    </tr>\n",
       "    <tr>\n",
       "      <th>3</th>\n",
       "      <td>Theo đó, người lao động được công ty...</td>\n",
       "      <td>Theo đó, người lao động được công ty...</td>\n",
       "    </tr>\n",
       "    <tr>\n",
       "      <th>4</th>\n",
       "      <td>Từ việc làm trên đã góp phần giải q...</td>\n",
       "      <td>Từ việc làm trên đã góp phần giải q...</td>\n",
       "    </tr>\n",
       "  </tbody>\n",
       "</table>\n",
       "</div>"
      ],
      "text/plain": [
       "                                            original  \\\n",
       "0  Ngày 4/12, Sở Lao động - Thương binh va...   \n",
       "1  Lãnh đạo Sở Lao động - Thương binh và...   \n",
       "2  Tại buổi làm việc, ông Phan Tiềm - Hi...   \n",
       "3  Theo đó, người lao động được công ty...   \n",
       "4  Từ việc làm trên đã góp phần giải q...   \n",
       "\n",
       "                                                norm  \n",
       "0  Ngày 4/12, Sở Lao động - Thương binh va...  \n",
       "1  Lãnh đạo Sở Lao động - Thương binh và...  \n",
       "2  Tại buổi làm việc, ông Phan Tiềm - Hi...  \n",
       "3  Theo đó, người lao động được công ty...  \n",
       "4  Từ việc làm trên đã góp phần giải q...  "
      ]
     },
     "execution_count": 34,
     "metadata": {},
     "output_type": "execute_result"
    }
   ],
   "source": [
    "\n",
    "df_unique['norm'] = df_unique['original']\n",
    "df_unique.head()"
   ]
  },
  {
   "cell_type": "code",
   "execution_count": 38,
   "metadata": {},
   "outputs": [
    {
     "data": {
      "text/html": [
       "<div>\n",
       "<style scoped>\n",
       "    .dataframe tbody tr th:only-of-type {\n",
       "        vertical-align: middle;\n",
       "    }\n",
       "\n",
       "    .dataframe tbody tr th {\n",
       "        vertical-align: top;\n",
       "    }\n",
       "\n",
       "    .dataframe thead th {\n",
       "        text-align: right;\n",
       "    }\n",
       "</style>\n",
       "<table border=\"1\" class=\"dataframe\">\n",
       "  <thead>\n",
       "    <tr style=\"text-align: right;\">\n",
       "      <th></th>\n",
       "      <th>original</th>\n",
       "      <th>norm</th>\n",
       "    </tr>\n",
       "  </thead>\n",
       "  <tbody>\n",
       "    <tr>\n",
       "      <th>0</th>\n",
       "      <td>Ngày 4/12, Sở Lao động - Thương binh va...</td>\n",
       "      <td>Ngày 4/12, Sở Lao động   Thương binh va...</td>\n",
       "    </tr>\n",
       "    <tr>\n",
       "      <th>1</th>\n",
       "      <td>Lãnh đạo Sở Lao động - Thương binh và...</td>\n",
       "      <td>Lãnh đạo Sở Lao động   Thương binh và...</td>\n",
       "    </tr>\n",
       "    <tr>\n",
       "      <th>2</th>\n",
       "      <td>Tại buổi làm việc, ông Phan Tiềm - Hi...</td>\n",
       "      <td>Tại buổi làm việc, ông Phan Tiềm   Hi...</td>\n",
       "    </tr>\n",
       "    <tr>\n",
       "      <th>3</th>\n",
       "      <td>Theo đó, người lao động được công ty...</td>\n",
       "      <td>Theo đó, người lao động được công ty...</td>\n",
       "    </tr>\n",
       "    <tr>\n",
       "      <th>4</th>\n",
       "      <td>Từ việc làm trên đã góp phần giải q...</td>\n",
       "      <td>Từ việc làm trên đã góp phần giải q...</td>\n",
       "    </tr>\n",
       "  </tbody>\n",
       "</table>\n",
       "</div>"
      ],
      "text/plain": [
       "                                            original  \\\n",
       "0  Ngày 4/12, Sở Lao động - Thương binh va...   \n",
       "1  Lãnh đạo Sở Lao động - Thương binh và...   \n",
       "2  Tại buổi làm việc, ông Phan Tiềm - Hi...   \n",
       "3  Theo đó, người lao động được công ty...   \n",
       "4  Từ việc làm trên đã góp phần giải q...   \n",
       "\n",
       "                                                norm  \n",
       "0  Ngày 4/12, Sở Lao động   Thương binh va...  \n",
       "1  Lãnh đạo Sở Lao động   Thương binh và...  \n",
       "2  Tại buổi làm việc, ông Phan Tiềm   Hi...  \n",
       "3  Theo đó, người lao động được công ty...  \n",
       "4  Từ việc làm trên đã góp phần giải q...  "
      ]
     },
     "execution_count": 38,
     "metadata": {},
     "output_type": "execute_result"
    }
   ],
   "source": [
    "\n",
    "import re\n",
    "\n",
    "def preprocess_text(text):\n",
    "  \"\"\"\n",
    "  Adds whitespace between text and numbers, and replaces hyphens with spaces.\n",
    "  \"\"\"\n",
    "  text = re.sub(r'(\\d+)([a-zA-Z]+)', r'\\1 \\2', text)\n",
    "  text = re.sub(r'([a-zA-Z]+)(\\d+)', r'\\1 \\2', text)\n",
    "  \n",
    "  text = text.replace(\"-\", \" \")\n",
    "  \n",
    "  return text\n",
    "\n",
    "df_unique['norm'] = df_unique['original'].apply(preprocess_text)\n",
    "df_unique.head()\n"
   ]
  },
  {
   "cell_type": "code",
   "execution_count": 39,
   "metadata": {},
   "outputs": [],
   "source": [
    "dlist = df_unique[\"norm\"].to_list()"
   ]
  },
  {
   "cell_type": "code",
   "execution_count": 40,
   "metadata": {},
   "outputs": [
    {
     "data": {
      "text/plain": [
       "['\"Bình quân mỗi tháng thu nhập của tôi tính ra tiền Việt khoảng 50 70 triệu đồng, vào mùa cao điểm thu nhập có thể nhiều hơn. Trừ tiền thuê nhà, chi phí sinh hoạt, tôi cũng để dành được 40 60 triệu đồng. Lao động làm ở mỗi tàu khác nhau, thu nhập cũng sẽ khác\", anh Tuấn cho biết.',\n",
       " 'Lao động Việt ghi lại cảnh nhúng tay vào nước sôi cho đỡ lạnh khi đi biển (Clip: Nhân vật cung cấp).',\n",
       " 'Tuy nhiên, theo anh Tuấn, để có mức thu nhập như vậy, mỗi ngày anh phải lênh đênh trên biển 15 17 tiếng. So với những công việc trên bờ, anh cho biết, nghề đi biển vất vả gấp nhiều lần. Khó khăn lớn nhất là phải đối mặt với thời tiết khắc nghiệt.',\n",
       " '\"Mùa đông, có những hôm tuyết rơi trắng trời, cơ thể có thể giữ ấm được nhưng đôi bàn tay bắt buộc phải chịu lạnh. Anh em chúng tôi luôn cố gắng giữ cho tay không bị ướt, nếu không bàn tay lạnh buốt, tê cóng rất khó làm việc.',\n",
       " 'Sang đây mới thấy mùa đông ngôn tình ở Hàn Quốc chỉ có trên phim còn thực tế là rét cắt da thịt. Mỗi ngày đi biển, tay phải đeo 2 lớp găng vải, 3 lớp bọc nilon chống nước, lớp ngoài cùng là găng tay cao su. Vậy mà vẫn lạnh buốt.',\n",
       " 'Trên tàu anh em thường đun sẵn nồi nước, lúc nào tay buốt quá thì nhúng tay vào nồi nước sôi một lúc mới ra làm việc tiếp được\", anh Tuấn chia sẻ.',\n",
       " 'Khác với những công việc, ngành nghề khác, lao động chọn nghề đi biển như anh Tuấn đều xác định công việc này làm quanh năm suốt tháng, vất vả, thậm chí đối mặt với nguy hiểm trên biển. Nguy hiểm nhất là nước bắn lên boong tàu đến đâu đóng băng đến đó, mặt sàn trơn trượt.',\n",
       " '\"Nghề này không cố định giờ giấc cụ thể, ngày làm việc 15 17 tiếng là bình thường. Có hôm tôi dậy từ 1 h sáng, đi làm liền đến 10 h đêm. Về nhà mới được nghỉ ngơi, còn những khoảng dừng tay trên tàu rất ít, cả ngày chỉ nghỉ lúc ăn cơm xong rồi làm tiếp, có khi miếng cơm còn chưa kịp xuống bụng\", anh Tuấn kể.',\n",
       " 'Mỗi ngày đi làm, anh Tuấn thường quay lại video clip, rảnh rỗi về đăng lên trang cá nhân để chia sẻ cho mọi người biết đến công việc của anh em lao động nghề ngư nghiệp. Qua những clip sinh động, chân thật, anh nhận được rất nhiều lời động viên từ những người con xa xứ. Điều đó giúp anh có thêm động lực để cố gắng.',\n",
       " '\"Ở nơi đất khách quê người có kêu khổ cũng không ai đỡ được cho mình. Lao động như chúng tôi may mắn gặp được chủ tốt thì đỡ vất vả, gặp người khắc nghiệt thì không từ ngữ nào diễn tả được. Nhiều lúc nản lòng nhưng phải cố gắng, không dám buông xuôi vì sau lưng còn có gia đình\", anh Tuấn tâm sự.',\n",
       " 'Thông tin trên được ông Đặng Huy Hồng, Giám đốc Trung tâm Lao động ngoài nước (Colab), cho biết tại hội thảo thúc đẩy đưa người lao động các tỉnh phía Bắc đi làm việc ở nước ngoài, thông qua chương trình phi lợi nhuận và giải pháp giảm số lượng lao động không về nước đúng quy định.',\n",
       " 'Thông tin về công tác chi trả tiền bảo hiểm quá hạn cho lao động sau khi về nước, lãnh đạo Trung tâm Lao động ngoài nước cho biết, đến nay đã hỗ trợ chi trả được 3.330 khoản bảo hiểm quá hạn với tổng số tiền chi trả gần 2,1 tỷ won (khoảng 40 tỷ đồng).',\n",
       " '\"Hiện vẫn còn 1.671 khoản bảo hiểm với số tiền hơn 1.8 tỷ won (khoảng 36 tỷ đồng) của một số người lao động chưa hoàn thiện thủ tục để nhận lại các khoản tiền này\", ông Hồng nói.',\n",
       " 'Lao động đăng ký thi sát hạch tiếng Hàn để sang Hàn Quốc làm việc (Ảnh: Nguyễn Sơn).',\n",
       " 'Theo quy định, lao động đi làm việc theo Chương trình cấp phép việc làm cho lao động nước ngoài (gọi tắt là chương trình EPS) khi hết hợp đồng, về nước đúng hạn sẽ được nhận khoản bảo hiểm mãn hạn xuất cảnh cho mỗi năm làm việc, tương đương một tháng lương cơ bản và bảo hiểm hồi hương 400.000 won để mua vé máy bay về nước.',\n",
       " 'Ông Hồng giải thích, khoản tiền tồn đọng một phần do lao động chưa hoàn thiện thủ tục nhận vì số tiền không lớn; một bộ phận người lao động trước đây tham gia chương trình thực tập sinh sau đó chuyển đổi sang chương trình EPS nên không xác định được địa chỉ để thông báo.',\n",
       " 'Thời gian tới, Trung tâm Lao động ngoài nước cùng Sở LĐ TB&XH các địa phương sẽ xác định lại danh sách, địa chỉ lao động về nước để thông báo cho họ sớm nhận đầy đủ.',\n",
       " 'Theo Colab, lao động hồi hương chưa nhận được tiền bảo hiểm có thể liên hệ Trung tâm Lao động ngoài nước để được hướng dẫn thủ tục nhận tiền. Hồ sơ đăng ký hợp lệ sẽ được gửi sang Hàn Quốc để xác minh và hoàn tất thủ tục chi trả, lao động nhận được tiền sau khoảng 2 3 tháng kể từ khi hoàn thành thủ tục.',\n",
       " 'TPHCM những ngày giữa tháng 10, trời liên tục đổ mưa. Đội mưa, Dương Thị Ngọc Mai (21 tuổi, ngụ tại quận 7) và bạn bè cùng kéo đến quán trà sữa nhỏ trên đường Tám Danh (quận 8, TPHCM) để thưởng thức ly trà sữa hải sản.',\n",
       " 'Vừa nhận ly trà sữa từ nhân viên, cả nhóm không khỏi ngạc nhiên vì mùi tôm nướng thoang thoảng. \"Tôi từng nghe trà sữa nấu từ đậu biếc, củ dền,... nhưng chưa từng nghĩ sẽ có trà sữa được nấu từ hải sản\", Ngọc Mai cười nói, háo hức thử ngụm đầu tiên.']"
      ]
     },
     "execution_count": 40,
     "metadata": {},
     "output_type": "execute_result"
    }
   ],
   "source": [
    "dlist[10:30]"
   ]
  },
  {
   "cell_type": "code",
   "execution_count": 42,
   "metadata": {},
   "outputs": [],
   "source": [
    "\n",
    "from vinorm import TTSnorm\n",
    "def convert_numbers_to_spoken(text):\n",
    "  \"\"\"\n",
    "  Converts numbers in the text to spoken language using Vinorm.\n",
    "  \"\"\"\n",
    "  numbers = re.findall(r'\\d+', text)\n",
    "  for number in numbers:\n",
    "    spoken_number = TTSnorm(number)\n",
    "    text = text.replace(number, spoken_number)\n",
    "  \n",
    "  return text\n",
    "\n",
    "\n",
    "df_unique['norm'] = df_unique['norm'].apply(convert_numbers_to_spoken)\n",
    "df_unique.head()"
   ]
  }
 ],
 "metadata": {
  "kernelspec": {
   "display_name": "Python 3",
   "language": "python",
   "name": "python3"
  },
  "language_info": {
   "codemirror_mode": {
    "name": "ipython",
    "version": 3
   },
   "file_extension": ".py",
   "mimetype": "text/x-python",
   "name": "python",
   "nbconvert_exporter": "python",
   "pygments_lexer": "ipython3",
   "version": "3.10.12"
  }
 },
 "nbformat": 4,
 "nbformat_minor": 2
}

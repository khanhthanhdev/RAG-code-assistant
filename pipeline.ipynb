{
 "cells": [
  {
   "cell_type": "code",
   "execution_count": 1,
   "metadata": {},
   "outputs": [
    {
     "name": "stdout",
     "output_type": "stream",
     "text": [
      "Requirement already satisfied: redis in /home/codespace/.local/lib/python3.10/site-packages (5.0.8)\n",
      "Collecting tabulate\n",
      "  Downloading tabulate-0.9.0-py3-none-any.whl.metadata (34 kB)\n",
      "Requirement already satisfied: haystack-ai in /home/codespace/.local/lib/python3.10/site-packages (2.3.0)\n",
      "Requirement already satisfied: google-ai-haystack in /home/codespace/.local/lib/python3.10/site-packages (1.1.1)\n",
      "Requirement already satisfied: sourcegraph==0.0.6 in /usr/local/python/3.10.13/lib/python3.10/site-packages (0.0.6)\n",
      "Requirement already satisfied: google-generativeai in /home/codespace/.local/lib/python3.10/site-packages (0.7.2)\n",
      "Requirement already satisfied: matplotlib~=3.8.4 in /home/codespace/.local/lib/python3.10/site-packages (from sourcegraph==0.0.6) (3.8.4)\n",
      "Requirement already satisfied: networkx~=3.2.1 in /home/codespace/.local/lib/python3.10/site-packages (from sourcegraph==0.0.6) (3.2.1)\n",
      "Requirement already satisfied: async-timeout>=4.0.3 in /home/codespace/.local/lib/python3.10/site-packages (from redis) (4.0.3)\n",
      "Requirement already satisfied: haystack-experimental in /home/codespace/.local/lib/python3.10/site-packages (from haystack-ai) (0.1.1)\n",
      "Requirement already satisfied: jinja2 in /home/codespace/.local/lib/python3.10/site-packages (from haystack-ai) (3.1.4)\n",
      "Requirement already satisfied: lazy-imports in /home/codespace/.local/lib/python3.10/site-packages (from haystack-ai) (0.3.1)\n",
      "Requirement already satisfied: more-itertools in /home/codespace/.local/lib/python3.10/site-packages (from haystack-ai) (10.4.0)\n",
      "Requirement already satisfied: numpy<2 in /home/codespace/.local/lib/python3.10/site-packages (from haystack-ai) (1.26.4)\n",
      "Requirement already satisfied: openai>=1.1.0 in /home/codespace/.local/lib/python3.10/site-packages (from haystack-ai) (1.40.6)\n",
      "Requirement already satisfied: pandas in /home/codespace/.local/lib/python3.10/site-packages (from haystack-ai) (2.2.2)\n",
      "Requirement already satisfied: posthog in /home/codespace/.local/lib/python3.10/site-packages (from haystack-ai) (3.5.0)\n",
      "Requirement already satisfied: python-dateutil in /home/codespace/.local/lib/python3.10/site-packages (from haystack-ai) (2.9.0.post0)\n",
      "Requirement already satisfied: pyyaml in /home/codespace/.local/lib/python3.10/site-packages (from haystack-ai) (6.0.1)\n",
      "Requirement already satisfied: requests in /home/codespace/.local/lib/python3.10/site-packages (from haystack-ai) (2.32.3)\n",
      "Requirement already satisfied: tenacity!=8.4.0 in /home/codespace/.local/lib/python3.10/site-packages (from haystack-ai) (8.5.0)\n",
      "Requirement already satisfied: tqdm in /home/codespace/.local/lib/python3.10/site-packages (from haystack-ai) (4.66.5)\n",
      "Requirement already satisfied: typing-extensions>=4.7 in /home/codespace/.local/lib/python3.10/site-packages (from haystack-ai) (4.12.2)\n",
      "Requirement already satisfied: google-ai-generativelanguage==0.6.6 in /home/codespace/.local/lib/python3.10/site-packages (from google-generativeai) (0.6.6)\n",
      "Requirement already satisfied: google-api-core in /home/codespace/.local/lib/python3.10/site-packages (from google-generativeai) (2.19.1)\n",
      "Requirement already satisfied: google-api-python-client in /home/codespace/.local/lib/python3.10/site-packages (from google-generativeai) (2.141.0)\n",
      "Requirement already satisfied: google-auth>=2.15.0 in /home/codespace/.local/lib/python3.10/site-packages (from google-generativeai) (2.33.0)\n",
      "Requirement already satisfied: protobuf in /home/codespace/.local/lib/python3.10/site-packages (from google-generativeai) (4.25.4)\n",
      "Requirement already satisfied: pydantic in /home/codespace/.local/lib/python3.10/site-packages (from google-generativeai) (2.8.2)\n",
      "Requirement already satisfied: proto-plus<2.0.0dev,>=1.22.3 in /home/codespace/.local/lib/python3.10/site-packages (from google-ai-generativelanguage==0.6.6->google-generativeai) (1.24.0)\n",
      "Requirement already satisfied: googleapis-common-protos<2.0.dev0,>=1.56.2 in /home/codespace/.local/lib/python3.10/site-packages (from google-api-core->google-generativeai) (1.63.2)\n",
      "Requirement already satisfied: cachetools<6.0,>=2.0.0 in /home/codespace/.local/lib/python3.10/site-packages (from google-auth>=2.15.0->google-generativeai) (5.4.0)\n",
      "Requirement already satisfied: pyasn1-modules>=0.2.1 in /home/codespace/.local/lib/python3.10/site-packages (from google-auth>=2.15.0->google-generativeai) (0.4.0)\n",
      "Requirement already satisfied: rsa<5,>=3.1.4 in /home/codespace/.local/lib/python3.10/site-packages (from google-auth>=2.15.0->google-generativeai) (4.9)\n",
      "Requirement already satisfied: contourpy>=1.0.1 in /home/codespace/.local/lib/python3.10/site-packages (from matplotlib~=3.8.4->sourcegraph==0.0.6) (1.2.1)\n",
      "Requirement already satisfied: cycler>=0.10 in /home/codespace/.local/lib/python3.10/site-packages (from matplotlib~=3.8.4->sourcegraph==0.0.6) (0.12.1)\n",
      "Requirement already satisfied: fonttools>=4.22.0 in /home/codespace/.local/lib/python3.10/site-packages (from matplotlib~=3.8.4->sourcegraph==0.0.6) (4.53.1)\n",
      "Requirement already satisfied: kiwisolver>=1.3.1 in /home/codespace/.local/lib/python3.10/site-packages (from matplotlib~=3.8.4->sourcegraph==0.0.6) (1.4.5)\n",
      "Requirement already satisfied: packaging>=20.0 in /home/codespace/.local/lib/python3.10/site-packages (from matplotlib~=3.8.4->sourcegraph==0.0.6) (24.1)\n",
      "Requirement already satisfied: pillow>=8 in /home/codespace/.local/lib/python3.10/site-packages (from matplotlib~=3.8.4->sourcegraph==0.0.6) (10.4.0)\n",
      "Requirement already satisfied: pyparsing>=2.3.1 in /home/codespace/.local/lib/python3.10/site-packages (from matplotlib~=3.8.4->sourcegraph==0.0.6) (3.1.2)\n",
      "Requirement already satisfied: anyio<5,>=3.5.0 in /home/codespace/.local/lib/python3.10/site-packages (from openai>=1.1.0->haystack-ai) (4.4.0)\n",
      "Requirement already satisfied: distro<2,>=1.7.0 in /home/codespace/.local/lib/python3.10/site-packages (from openai>=1.1.0->haystack-ai) (1.9.0)\n",
      "Requirement already satisfied: httpx<1,>=0.23.0 in /home/codespace/.local/lib/python3.10/site-packages (from openai>=1.1.0->haystack-ai) (0.27.0)\n",
      "Requirement already satisfied: jiter<1,>=0.4.0 in /home/codespace/.local/lib/python3.10/site-packages (from openai>=1.1.0->haystack-ai) (0.5.0)\n",
      "Requirement already satisfied: sniffio in /home/codespace/.local/lib/python3.10/site-packages (from openai>=1.1.0->haystack-ai) (1.3.1)\n",
      "Requirement already satisfied: annotated-types>=0.4.0 in /home/codespace/.local/lib/python3.10/site-packages (from pydantic->google-generativeai) (0.7.0)\n",
      "Requirement already satisfied: pydantic-core==2.20.1 in /home/codespace/.local/lib/python3.10/site-packages (from pydantic->google-generativeai) (2.20.1)\n",
      "Requirement already satisfied: six>=1.5 in /home/codespace/.local/lib/python3.10/site-packages (from python-dateutil->haystack-ai) (1.16.0)\n",
      "Requirement already satisfied: charset-normalizer<4,>=2 in /home/codespace/.local/lib/python3.10/site-packages (from requests->haystack-ai) (3.3.2)\n",
      "Requirement already satisfied: idna<4,>=2.5 in /home/codespace/.local/lib/python3.10/site-packages (from requests->haystack-ai) (3.7)\n",
      "Requirement already satisfied: urllib3<3,>=1.21.1 in /home/codespace/.local/lib/python3.10/site-packages (from requests->haystack-ai) (2.2.2)\n",
      "Requirement already satisfied: certifi>=2017.4.17 in /home/codespace/.local/lib/python3.10/site-packages (from requests->haystack-ai) (2024.7.4)\n",
      "Requirement already satisfied: httplib2<1.dev0,>=0.19.0 in /home/codespace/.local/lib/python3.10/site-packages (from google-api-python-client->google-generativeai) (0.22.0)\n",
      "Requirement already satisfied: google-auth-httplib2<1.0.0,>=0.2.0 in /home/codespace/.local/lib/python3.10/site-packages (from google-api-python-client->google-generativeai) (0.2.0)\n",
      "Requirement already satisfied: uritemplate<5,>=3.0.1 in /home/codespace/.local/lib/python3.10/site-packages (from google-api-python-client->google-generativeai) (4.1.1)\n",
      "Requirement already satisfied: MarkupSafe>=2.0 in /home/codespace/.local/lib/python3.10/site-packages (from jinja2->haystack-ai) (2.1.5)\n",
      "Requirement already satisfied: pytz>=2020.1 in /home/codespace/.local/lib/python3.10/site-packages (from pandas->haystack-ai) (2024.1)\n",
      "Requirement already satisfied: tzdata>=2022.7 in /home/codespace/.local/lib/python3.10/site-packages (from pandas->haystack-ai) (2024.1)\n",
      "Requirement already satisfied: monotonic>=1.5 in /home/codespace/.local/lib/python3.10/site-packages (from posthog->haystack-ai) (1.6)\n",
      "Requirement already satisfied: backoff>=1.10.0 in /home/codespace/.local/lib/python3.10/site-packages (from posthog->haystack-ai) (2.2.1)\n",
      "Requirement already satisfied: exceptiongroup>=1.0.2 in /home/codespace/.local/lib/python3.10/site-packages (from anyio<5,>=3.5.0->openai>=1.1.0->haystack-ai) (1.2.1)\n",
      "Requirement already satisfied: grpcio<2.0dev,>=1.33.2 in /home/codespace/.local/lib/python3.10/site-packages (from google-api-core[grpc]!=2.0.*,!=2.1.*,!=2.10.*,!=2.2.*,!=2.3.*,!=2.4.*,!=2.5.*,!=2.6.*,!=2.7.*,!=2.8.*,!=2.9.*,<3.0.0dev,>=1.34.1->google-ai-generativelanguage==0.6.6->google-generativeai) (1.65.4)\n",
      "Requirement already satisfied: grpcio-status<2.0.dev0,>=1.33.2 in /home/codespace/.local/lib/python3.10/site-packages (from google-api-core[grpc]!=2.0.*,!=2.1.*,!=2.10.*,!=2.2.*,!=2.3.*,!=2.4.*,!=2.5.*,!=2.6.*,!=2.7.*,!=2.8.*,!=2.9.*,<3.0.0dev,>=1.34.1->google-ai-generativelanguage==0.6.6->google-generativeai) (1.62.3)\n",
      "Requirement already satisfied: httpcore==1.* in /home/codespace/.local/lib/python3.10/site-packages (from httpx<1,>=0.23.0->openai>=1.1.0->haystack-ai) (1.0.5)\n",
      "Requirement already satisfied: h11<0.15,>=0.13 in /home/codespace/.local/lib/python3.10/site-packages (from httpcore==1.*->httpx<1,>=0.23.0->openai>=1.1.0->haystack-ai) (0.14.0)\n",
      "Requirement already satisfied: pyasn1<0.7.0,>=0.4.6 in /home/codespace/.local/lib/python3.10/site-packages (from pyasn1-modules>=0.2.1->google-auth>=2.15.0->google-generativeai) (0.6.0)\n",
      "Downloading tabulate-0.9.0-py3-none-any.whl (35 kB)\n",
      "Installing collected packages: tabulate\n",
      "\u001b[33m  WARNING: The script tabulate is installed in '/usr/local/python/3.10.13/bin' which is not on PATH.\n",
      "  Consider adding this directory to PATH or, if you prefer to suppress this warning, use --no-warn-script-location.\u001b[0m\u001b[33m\n",
      "\u001b[0mSuccessfully installed tabulate-0.9.0\n",
      "\n",
      "\u001b[1m[\u001b[0m\u001b[34;49mnotice\u001b[0m\u001b[1;39;49m]\u001b[0m\u001b[39;49m A new release of pip is available: \u001b[0m\u001b[31;49m24.1.2\u001b[0m\u001b[39;49m -> \u001b[0m\u001b[32;49m24.2\u001b[0m\n",
      "\u001b[1m[\u001b[0m\u001b[34;49mnotice\u001b[0m\u001b[1;39;49m]\u001b[0m\u001b[39;49m To update, run: \u001b[0m\u001b[32;49mpython -m pip install --upgrade pip\u001b[0m\n"
     ]
    }
   ],
   "source": [
    "!python -m pip install redis tabulate haystack-ai google-ai-haystack sourcegraph==0.0.6 google-generativeai"
   ]
  },
  {
   "cell_type": "code",
   "execution_count": 2,
   "metadata": {},
   "outputs": [],
   "source": [
    "%%capture\n",
    "!python -m pip install --upgrade --force-reinstall protobuf"
   ]
  },
  {
   "cell_type": "code",
   "execution_count": 3,
   "metadata": {},
   "outputs": [
    {
     "name": "stderr",
     "output_type": "stream",
     "text": [
      "/home/codespace/.local/lib/python3.10/site-packages/tqdm/auto.py:21: TqdmWarning: IProgress not found. Please update jupyter and ipywidgets. See https://ipywidgets.readthedocs.io/en/stable/user_install.html\n",
      "  from .autonotebook import tqdm as notebook_tqdm\n"
     ]
    }
   ],
   "source": [
    "import os\n",
    "from dotenv import load_dotenv\n",
    "import numpy as np\n",
    "import redis\n",
    "from typing import List\n",
    "from redis.commands.search.query import Query\n",
    "import google.generativeai as genai"
   ]
  },
  {
   "cell_type": "code",
   "execution_count": 4,
   "metadata": {},
   "outputs": [
    {
     "data": {
      "text/plain": [
       "True"
      ]
     },
     "execution_count": 4,
     "metadata": {},
     "output_type": "execute_result"
    }
   ],
   "source": [
    "load_dotenv()"
   ]
  },
  {
   "cell_type": "code",
   "execution_count": 5,
   "metadata": {},
   "outputs": [],
   "source": [
    "client = redis.Redis(\n",
    "  host=os.environ['REDIS_HOST'],\n",
    "  port=os.environ['REDIS_PORT'],\n",
    "  password=os.environ['REDIS_PASSWORD'])"
   ]
  },
  {
   "cell_type": "code",
   "execution_count": 6,
   "metadata": {},
   "outputs": [],
   "source": [
    "genai.configure(api_key=os.environ[\"GOOGLE_API_KEY\"])\n",
    "\n",
    "def get_embeddings(content: List):\n",
    "    return genai.embed_content(model='models/text-embedding-004',content=content)['embedding']"
   ]
  },
  {
   "cell_type": "code",
   "execution_count": 7,
   "metadata": {},
   "outputs": [],
   "source": [
    "query = \"Training new tokenizer takes a lot time to complete. Also memory consumption seems pretty high\""
   ]
  },
  {
   "cell_type": "code",
   "execution_count": 8,
   "metadata": {},
   "outputs": [],
   "source": [
    "def draft_prompt(query: str, chat_history: str) -> str:\n",
    "    \"\"\"\n",
    "    Perform a vector similarity search and retrieve related functions.\n",
    "\n",
    "    Args:\n",
    "        query (str): The input query to encode.\n",
    "\n",
    "    Returns:\n",
    "        str: A formatted string containing details of related functions.\n",
    "    \"\"\"\n",
    "    INDEX_NAME = \"idx:codes_vss\"\n",
    "    \n",
    "    vector_search_query = (\n",
    "        Query('(*)=>[KNN 2 @vector $query_vector AS vector_score]')\n",
    "        .sort_by('vector_score')\n",
    "        .return_fields('vector_score', 'id', 'name', 'definition', 'file_name', 'type', 'uses')\n",
    "        .dialect(2)\n",
    "    )\n",
    "    \n",
    "    encoded_query = get_embeddings(query)\n",
    "    vector_params = {\n",
    "        \"query_vector\": np.array(encoded_query, dtype=np.float32).tobytes()\n",
    "    }\n",
    "    \n",
    "    result_docs = client.ft(INDEX_NAME).search(vector_search_query, vector_params).docs\n",
    "    \n",
    "    related_items: List[str] = []\n",
    "    dependencies: List[str] = []\n",
    "    for doc in result_docs:\n",
    "        related_items.append(doc.name)\n",
    "        if doc.uses:\n",
    "            dependencies.extend(use for use in doc.uses.split(\", \") if use)\n",
    "    \n",
    "    dependencies = list(set(dependencies) - set(related_items))\n",
    "    \n",
    "    def get_query(item_list):\n",
    "        return Query(f\"@name:({' | '.join(item_list)})\").return_fields(\n",
    "            'id', 'name', 'definition', 'file_name', 'type'\n",
    "        )\n",
    "    \n",
    "    related_docs = client.ft(INDEX_NAME).search(get_query(related_items)).docs\n",
    "    dependency_docs = client.ft(INDEX_NAME).search(get_query(dependencies)).docs\n",
    "    \n",
    "    def format_doc(doc):\n",
    "        return (\n",
    "            f\"{'*' * 28} CODE SNIPPET {doc.id} {'*' * 28}\\n\"\n",
    "            f\"* Name: {doc.name}\\n\"\n",
    "            f\"* File: {doc.file_name}\\n\"\n",
    "            f\"* {doc.type.capitalize()} definition:\\n\"\n",
    "            f\"```python\\n{doc.definition}\\n```\\n\"\n",
    "        )\n",
    "    \n",
    "    formatted_results_main = [format_doc(doc) for doc in related_docs]\n",
    "    formatted_results_support = [format_doc(doc) for doc in dependency_docs]\n",
    "    \n",
    "    return (\n",
    "        f\"User Question: {query}\\n\\n\"\n",
    "        f\"Current Chat History: \\n{chat_history}\\n\\n\"\n",
    "        f\"USE BELOW CODES TO ANSWER USER QUESTIONS.\\n\"\n",
    "        f\"{chr(10).join(formatted_results_main)}\\n\\n\"\n",
    "        f\"SOME SUPPORTING FUNCTIONS AND CLASS YOU MAY WANT.\\n\"\n",
    "        f\"{chr(10).join(formatted_results_support)}\"\n",
    "    )"
   ]
  }
 ],
 "metadata": {
  "kernelspec": {
   "display_name": "Python 3",
   "language": "python",
   "name": "python3"
  },
  "language_info": {
   "codemirror_mode": {
    "name": "ipython",
    "version": 3
   },
   "file_extension": ".py",
   "mimetype": "text/x-python",
   "name": "python",
   "nbconvert_exporter": "python",
   "pygments_lexer": "ipython3",
   "version": "3.10.13"
  }
 },
 "nbformat": 4,
 "nbformat_minor": 2
}
